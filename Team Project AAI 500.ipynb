{
 "cells": [
  {
   "cell_type": "code",
   "execution_count": 1,
   "metadata": {},
   "outputs": [
    {
     "name": "stderr",
     "output_type": "stream",
     "text": [
      "c:\\Users\\luisl\\anaconda3\\envs\\PythonData\\lib\\site-packages\\scipy\\__init__.py:146: UserWarning: A NumPy version >=1.16.5 and <1.23.0 is required for this version of SciPy (detected version 1.25.2\n",
      "  warnings.warn(f\"A NumPy version >={np_minversion} and <{np_maxversion}\"\n"
     ]
    }
   ],
   "source": [
    "import pandas as pd\n",
    "import numpy as np\n",
    "import matplotlib.pyplot as plt\n",
    "import seaborn as sns\n",
    "import scipy.stats as stats"
   ]
  },
  {
   "cell_type": "markdown",
   "metadata": {},
   "source": [
    "## Business Questions:\n",
    "\n",
    "\n",
    "Descriptive Analytics\n",
    "\n",
    "    Sales Analysis: What are the total sales for each product category across different channels and regions? This involves summarizing current sales data to understand what products are performing well.\n",
    "    Customer Segmentation: How do customers differ in their spending across different product categories? This can involve cluster analysis to identify different types of customers based on their purchasing patterns.\n",
    "    Market Analysis: What are the differences in purchasing patterns across regions? Are there specific product categories that are more popular in certain regions?\n",
    "\n",
    "Inferential Analytics\n",
    "\n",
    "    Comparative Analysis: Is there a significant difference in the average spending on different product categories between the two channels? This could involve hypothesis testing to compare means across groups.\n",
    "    Association Rules: Are there certain products that are frequently bought together? This could involve using market basket analysis to find associations between different products.\n",
    "    Regional Preferences: Are there significant differences in purchasing habits across different regions? This could involve statistical tests to compare regional data.\n",
    "\n",
    "Predictive Analytics\n",
    "\n",
    "    Sales Forecasting: Can we predict future sales for each product category based on historical data? This would involve using time series analysis or machine learning models for sales forecasting.\n",
    "    Customer Spending Prediction: Can we predict how much a new customer will spend in each category based on their demographics or initial purchases? This involves building a predictive model.\n",
    "    Churn Prediction: Can we predict which customers are likely to stop buying (churn) based on their purchasing patterns? This involves identifying patterns that precede churn and building a predictive model."
   ]
  },
  {
   "cell_type": "code",
   "execution_count": 52,
   "metadata": {},
   "outputs": [
    {
     "data": {
      "text/plain": [
       "Channel              0.003981\n",
       "Region               0.007653\n",
       "Fresh               36.112841\n",
       "Milk                17.442869\n",
       "Grocery             23.928007\n",
       "Frozen               9.244453\n",
       "Detergents_Paper     8.671360\n",
       "Delicassen           4.588836\n",
       "dtype: float64"
      ]
     },
     "execution_count": 52,
     "metadata": {},
     "output_type": "execute_result"
    }
   ],
   "source": [
    "df = pd.read_csv('wholesale.csv')\n",
    "df.head(2)\n",
    "\n",
    "(df.sum() / df.sum().sum()) * 100"
   ]
  },
  {
   "cell_type": "markdown",
   "metadata": {},
   "source": [
    "Looks like the top selling products are Fresh, Milk and Groceries. Numbers are expenditure of clients in monetary units"
   ]
  },
  {
   "cell_type": "markdown",
   "metadata": {},
   "source": [
    "## Descriptive Statistics"
   ]
  },
  {
   "cell_type": "code",
   "execution_count": null,
   "metadata": {},
   "outputs": [],
   "source": []
  },
  {
   "cell_type": "markdown",
   "metadata": {},
   "source": [
    "## Probability"
   ]
  },
  {
   "cell_type": "code",
   "execution_count": null,
   "metadata": {},
   "outputs": [],
   "source": []
  },
  {
   "cell_type": "markdown",
   "metadata": {},
   "source": [
    "## Sampling Distributions"
   ]
  },
  {
   "cell_type": "markdown",
   "metadata": {},
   "source": [
    "### Studying the confidence interval of the major products consumed"
   ]
  },
  {
   "cell_type": "markdown",
   "metadata": {},
   "source": [
    "#### Starting with Fresh"
   ]
  },
  {
   "cell_type": "code",
   "execution_count": 29,
   "metadata": {},
   "outputs": [
    {
     "data": {
      "text/plain": [
       "<Figure size 432x504 with 0 Axes>"
      ]
     },
     "metadata": {},
     "output_type": "display_data"
    },
    {
     "data": {
      "image/png": "[encoded data removed]",
      "text/plain": [
       "<Figure size 432x288 with 1 Axes>"
      ]
     },
     "metadata": {
      "needs_background": "light"
     },
     "output_type": "display_data"
    }
   ],
   "source": [
    "plt.figure(figsize=(6,7))\n",
    "df.groupby('Region')[['Fresh', 'Milk', 'Grocery', 'Frozen',\n",
    "       'Detergents_Paper', 'Delicassen']].sum().plot(kind='bar')\n",
    "plt.xticks(rotation = 45)\n",
    "plt.xlabel('Region')\n",
    "plt.ylabel('Total Sales')\n",
    "plt.show();"
   ]
  },
  {
   "cell_type": "code",
   "execution_count": 25,
   "metadata": {},
   "outputs": [
    {
     "data": {
      "text/html": [
       "<div>\n",
       "<style scoped>\n",
       "    .dataframe tbody tr th:only-of-type {\n",
       "        vertical-align: middle;\n",
       "    }\n",
       "\n",
       "    .dataframe tbody tr th {\n",
       "        vertical-align: top;\n",
       "    }\n",
       "\n",
       "    .dataframe thead th {\n",
       "        text-align: right;\n",
       "    }\n",
       "</style>\n",
       "<table border=\"1\" class=\"dataframe\">\n",
       "  <thead>\n",
       "    <tr style=\"text-align: right;\">\n",
       "      <th></th>\n",
       "      <th>Fresh</th>\n",
       "      <th>Milk</th>\n",
       "      <th>Grocery</th>\n",
       "      <th>Frozen</th>\n",
       "      <th>Detergents_Paper</th>\n",
       "      <th>Delicassen</th>\n",
       "    </tr>\n",
       "    <tr>\n",
       "      <th>Region</th>\n",
       "      <th></th>\n",
       "      <th></th>\n",
       "      <th></th>\n",
       "      <th></th>\n",
       "      <th></th>\n",
       "      <th></th>\n",
       "    </tr>\n",
       "  </thead>\n",
       "  <tbody>\n",
       "    <tr>\n",
       "      <th>1</th>\n",
       "      <td>854833</td>\n",
       "      <td>422454</td>\n",
       "      <td>570037</td>\n",
       "      <td>231026</td>\n",
       "      <td>204136</td>\n",
       "      <td>104327</td>\n",
       "    </tr>\n",
       "    <tr>\n",
       "      <th>2</th>\n",
       "      <td>464721</td>\n",
       "      <td>239144</td>\n",
       "      <td>433274</td>\n",
       "      <td>190132</td>\n",
       "      <td>173311</td>\n",
       "      <td>54506</td>\n",
       "    </tr>\n",
       "    <tr>\n",
       "      <th>3</th>\n",
       "      <td>3960577</td>\n",
       "      <td>1888759</td>\n",
       "      <td>2495251</td>\n",
       "      <td>930492</td>\n",
       "      <td>890410</td>\n",
       "      <td>512110</td>\n",
       "    </tr>\n",
       "  </tbody>\n",
       "</table>\n",
       "</div>"
      ],
      "text/plain": [
       "          Fresh     Milk  Grocery  Frozen  Detergents_Paper  Delicassen\n",
       "Region                                                                 \n",
       "1        854833   422454   570037  231026            204136      104327\n",
       "2        464721   239144   433274  190132            173311       54506\n",
       "3       3960577  1888759  2495251  930492            890410      512110"
      ]
     },
     "execution_count": 25,
     "metadata": {},
     "output_type": "execute_result"
    }
   ],
   "source": [
    "df.groupby('Region')[['Fresh', 'Milk', 'Grocery', 'Frozen',\n",
    "       'Detergents_Paper', 'Delicassen']].sum()"
   ]
  },
  {
   "cell_type": "code",
   "execution_count": 35,
   "metadata": {},
   "outputs": [
    {
     "data": {
      "text/plain": [
       "(12000.297727272728, 12647.328865076894)"
      ]
     },
     "execution_count": 35,
     "metadata": {},
     "output_type": "execute_result"
    }
   ],
   "source": [
    "fresh_mean = df['Fresh'].mean()\n",
    "fresh_sd = df['Fresh'].std()\n",
    "fresh_mean, fresh_sd"
   ]
  },
  {
   "cell_type": "code",
   "execution_count": 42,
   "metadata": {},
   "outputs": [
    {
     "data": {
      "text/plain": [
       "(0.9002982769251917, 13329.246578431324)"
      ]
     },
     "execution_count": 42,
     "metadata": {},
     "output_type": "execute_result"
    }
   ],
   "source": [
    "#Calculating shape and scale parameter\n",
    "k_shape = fresh_mean**2 / fresh_sd**2\n",
    "lambda_scale = fresh_sd / k_shape\n",
    "k_shape,lambda_scale\n",
    "# Recalculating with the correct understanding\n",
    "variance_gamma = fresh_sd**2  # Variance is the square of the standard deviation\n",
    "\n",
    "# Shape parameter (k)\n",
    "k_gamma = fresh_mean**2 / variance_gamma\n",
    "\n",
    "# Scale parameter (theta)\n",
    "theta_gamma = variance_gamma / fresh_mean\n",
    "\n",
    "(k_gamma, theta_gamma)\n",
    "\n"
   ]
  },
  {
   "cell_type": "code",
   "execution_count": 43,
   "metadata": {},
   "outputs": [
    {
     "data": {
      "text/plain": [
       "<AxesSubplot:xlabel='Fresh', ylabel='Count'>"
      ]
     },
     "execution_count": 43,
     "metadata": {},
     "output_type": "execute_result"
    },
    {
     "data": {
      "image/png": "[encoded data removed]",
      "text/plain": [
       "<Figure size 432x288 with 1 Axes>"
      ]
     },
     "metadata": {
      "needs_background": "light"
     },
     "output_type": "display_data"
    }
   ],
   "source": [
    "sns.histplot(df['Fresh'],kde= True)"
   ]
  },
  {
   "cell_type": "code",
   "execution_count": 44,
   "metadata": {},
   "outputs": [
    {
     "data": {
      "text/plain": [
       "[<matplotlib.lines.Line2D at 0x19aa1b51580>]"
      ]
     },
     "execution_count": 44,
     "metadata": {},
     "output_type": "execute_result"
    },
    {
     "data": {
      "image/png": "[encoded data removed]",
      "text/plain": [
       "<Figure size 432x288 with 1 Axes>"
      ]
     },
     "metadata": {
      "needs_background": "light"
     },
     "output_type": "display_data"
    }
   ],
   "source": [
    "x = np.linspace (0, 150, 1000000) # This is creating the x-scale starting from 0 to 150 and simulating 10,000 samples\n",
    "y = stats.gamma.pdf(x, a= k_gamma, scale=theta_gamma)#\n",
    "plt.plot(x,y)"
   ]
  },
  {
   "cell_type": "code",
   "execution_count": 45,
   "metadata": {},
   "outputs": [],
   "source": [
    "# Number of samples per mean calculation and number of means to generate\n",
    "num_samples_per_mean = 50\n",
    "num_means = 10000\n",
    "\n",
    "# Generate random samples and calculate means\n",
    "means = [np.random.gamma(k_gamma, theta_gamma, num_samples_per_mean).mean() for _ in range(num_means)]"
   ]
  },
  {
   "cell_type": "code",
   "execution_count": 46,
   "metadata": {},
   "outputs": [
    {
     "data": {
      "text/plain": [
       "<AxesSubplot:ylabel='Count'>"
      ]
     },
     "execution_count": 46,
     "metadata": {},
     "output_type": "execute_result"
    },
    {
     "data": {
      "image/png": "[encoded data removed]",
      "text/plain": [
       "<Figure size 432x288 with 1 Axes>"
      ]
     },
     "metadata": {
      "needs_background": "light"
     },
     "output_type": "display_data"
    }
   ],
   "source": [
    "sns.histplot(means)\n",
    "plt.show();"
   ]
  },
  {
   "cell_type": "code",
   "execution_count": 48,
   "metadata": {},
   "outputs": [
    {
     "data": {
      "text/plain": [
       "12006.421106780892"
      ]
     },
     "execution_count": 48,
     "metadata": {},
     "output_type": "execute_result"
    }
   ],
   "source": [
    "np.mean(means)"
   ]
  },
  {
   "cell_type": "code",
   "execution_count": 49,
   "metadata": {},
   "outputs": [
    {
     "data": {
      "text/plain": [
       "602.9377463368367"
      ]
     },
     "execution_count": 49,
     "metadata": {},
     "output_type": "execute_result"
    }
   ],
   "source": [
    "fresh_se = fresh_sd / np.sqrt(df['Fresh'].shape[0])\n"
   ]
  },
  {
   "cell_type": "code",
   "execution_count": 74,
   "metadata": {},
   "outputs": [
    {
     "data": {
      "text/plain": [
       "(10818.539744452528, 13182.055710092927, 12000.297727272728)"
      ]
     },
     "execution_count": 74,
     "metadata": {},
     "output_type": "execute_result"
    }
   ],
   "source": [
    "lower = fresh_mean - 1.96*fresh_se\n",
    "upper = fresh_mean + 1.96*fresh_se\n",
    "lower , upper, fresh_mean"
   ]
  },
  {
   "cell_type": "markdown",
   "metadata": {},
   "source": [
    "****We are 95% confident that in the long run, the mean expindature of clintele will remain between (10818, 13182) over the course of the year.****"
   ]
  },
  {
   "cell_type": "markdown",
   "metadata": {},
   "source": [
    "#### Milk"
   ]
  },
  {
   "cell_type": "code",
   "execution_count": 56,
   "metadata": {},
   "outputs": [
    {
     "data": {
      "image/png": "[encoded data removed]",
      "text/plain": [
       "<Figure size 432x288 with 1 Axes>"
      ]
     },
     "metadata": {
      "needs_background": "light"
     },
     "output_type": "display_data"
    },
    {
     "name": "stdout",
     "output_type": "stream",
     "text": [
      "Wee see, that milk also resembles the exponential function or the gamma function as the Fresh produce section\n"
     ]
    }
   ],
   "source": [
    "sns.histplot(df['Milk'], kde=True)\n",
    "plt.show();\n",
    "print('Wee see, that milk also resembles the exponential function or the gamma function as the Fresh produce section')"
   ]
  },
  {
   "cell_type": "code",
   "execution_count": 73,
   "metadata": {},
   "outputs": [
    {
     "data": {
      "image/png": "[encoded data removed]",
      "text/plain": [
       "<Figure size 432x288 with 1 Axes>"
      ]
     },
     "metadata": {
      "needs_background": "light"
     },
     "output_type": "display_data"
    },
    {
     "name": "stdout",
     "output_type": "stream",
     "text": [
      "We are 95% confident that Milk customer expidenture will fall bewteen (2383.1, 3760.77), while the mean is 3071.93\n"
     ]
    }
   ],
   "source": [
    "#Calculating Parameters\n",
    "milk_mean = np.mean(df['Frozen'])\n",
    "milk_st =np.std(df['Milk'])\n",
    "milk_n = df.shape[0]\n",
    "milk_se = milk_st / np.sqrt(milk_n)\n",
    "\n",
    "\n",
    "# Calculating the shape and scale parameters for milk\n",
    "\n",
    "variance_gamma = milk_st**2  # Variance is the square of the standard deviation\n",
    "\n",
    "# Shape parameter (k)\n",
    "k_gamma = milk_mean**2 / variance_gamma\n",
    "\n",
    "# Scale parameter (theta)\n",
    "theta_gamma = variance_gamma / milk_mean\n",
    "\n",
    "# Number of samples per mean calculation and number of means to generate\n",
    "num_samples_per_mean = 50\n",
    "num_means = 10000\n",
    "\n",
    "# Generate random samples and calculate means\n",
    "means = [np.random.gamma(k_gamma, theta_gamma, num_samples_per_mean).mean() for _ in range(num_means)]\n",
    "\n",
    "sns.histplot(means,kde=True)\n",
    "plt.show();\n",
    "\n",
    "\n",
    "lower = milk_mean - 1.96*milk_se\n",
    "upper = milk_mean + 1.96*milk_se\n",
    "lower , upper\n",
    "\n",
    "print(f'We are 95% confident that Milk customer expidenture will fall bewteen {round(lower,2),round(upper,2)}, while the mean is {round(milk_mean,2)}')"
   ]
  },
  {
   "cell_type": "markdown",
   "metadata": {},
   "source": [
    "### We will analyze 'Frozen' Foods"
   ]
  },
  {
   "cell_type": "code",
   "execution_count": 71,
   "metadata": {},
   "outputs": [
    {
     "data": {
      "image/png": "[encoded data removed]",
      "text/plain": [
       "<Figure size 432x288 with 1 Axes>"
      ]
     },
     "metadata": {
      "needs_background": "light"
     },
     "output_type": "display_data"
    },
    {
     "name": "stdout",
     "output_type": "stream",
     "text": [
      "We are 95% confident that Milk customer expidenture will fall bewteen (5343.16, 6249.37), while the mean is 5796.27\n"
     ]
    }
   ],
   "source": [
    "#Calculating Parameters\n",
    "frozen_mean = np.mean(df['Milk'])\n",
    "frozen_st =np.std(df['Frozen'])\n",
    "frozen_n = df.shape[0]\n",
    "frozen_se = frozen_st / np.sqrt(frozen_n)\n",
    "\n",
    "\n",
    "# Calculating the shape and scale parameters for milk\n",
    "\n",
    "variance_gamma = frozen_st**2  # Variance is the square of the standard deviation\n",
    "\n",
    "# Shape parameter (k)\n",
    "k_gamma = frozen_mean**2 / variance_gamma\n",
    "\n",
    "# Scale parameter (theta)\n",
    "theta_gamma = variance_gamma / frozen_mean\n",
    "\n",
    "# Number of samples per mean calculation and number of means to generate\n",
    "num_samples_per_mean = 50\n",
    "num_means = 10000\n",
    "\n",
    "# Generate random samples and calculate means\n",
    "means = [np.random.gamma(k_gamma, theta_gamma, num_samples_per_mean).mean() for _ in range(num_means)]\n",
    "\n",
    "sns.histplot(means,kde=True)\n",
    "plt.show();\n",
    "\n",
    "\n",
    "lower = frozen_mean - 1.96*frozen_se\n",
    "upper = frozen_mean + 1.96*frozen_se\n",
    "lower , upper\n",
    "\n",
    "print(f'We are 95% confident that Frozen customer expidenture will fall bewteen {round(lower,2),round(upper,2)}, while the mean is {round(frozen_mean,2)}')"
   ]
  },
  {
   "cell_type": "code",
   "execution_count": null,
   "metadata": {},
   "outputs": [],
   "source": []
  }
 ],
 "metadata": {
  "kernelspec": {
   "display_name": "PythonData",
   "language": "python",
   "name": "python3"
  },
  "language_info": {
   "codemirror_mode": {
    "name": "ipython",
    "version": 3
   },
   "file_extension": ".py",
   "mimetype": "text/x-python",
   "name": "python",
   "nbconvert_exporter": "python",
   "pygments_lexer": "ipython3",
   "version": "3.9.12"
  }
 },
 "nbformat": 4,
 "nbformat_minor": 2
}
